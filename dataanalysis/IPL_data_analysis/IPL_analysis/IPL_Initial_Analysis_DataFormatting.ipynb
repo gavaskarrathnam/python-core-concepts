{
 "cells": [
  {
   "cell_type": "code",
   "execution_count": 1,
   "metadata": {},
   "outputs": [],
   "source": [
    "import pandas as pd\n",
    "import numpy as np"
   ]
  },
  {
   "cell_type": "markdown",
   "metadata": {},
   "source": [
    "### Reading files:"
   ]
  },
  {
   "cell_type": "code",
   "execution_count": 17,
   "metadata": {},
   "outputs": [],
   "source": [
    "deliveries_df = pd.read_csv(\"data/deliveries.csv\")\n",
    "matches_df = pd.read_csv(\"data/matches.csv\")"
   ]
  },
  {
   "cell_type": "markdown",
   "metadata": {},
   "source": [
    "### Selection"
   ]
  },
  {
   "cell_type": "code",
   "execution_count": 35,
   "metadata": {},
   "outputs": [],
   "source": [
    "# deliveries_df.head()\n",
    "# matches_df.head()"
   ]
  },
  {
   "cell_type": "markdown",
   "metadata": {},
   "source": [
    "### Statistics describe of dataframe"
   ]
  },
  {
   "cell_type": "code",
   "execution_count": 38,
   "metadata": {},
   "outputs": [],
   "source": [
    "# deliveries_df.describe()\n",
    "# matches_df.describe()"
   ]
  },
  {
   "cell_type": "markdown",
   "metadata": {},
   "source": [
    "### Columns and its datatypes"
   ]
  },
  {
   "cell_type": "code",
   "execution_count": 42,
   "metadata": {},
   "outputs": [],
   "source": [
    "# deliveries_df.dtypes\n",
    "# matches_df.dtypes\n",
    "# matches_df.columns"
   ]
  },
  {
   "cell_type": "markdown",
   "metadata": {},
   "source": [
    "### Info of a dataframe"
   ]
  },
  {
   "cell_type": "code",
   "execution_count": 48,
   "metadata": {
    "scrolled": false
   },
   "outputs": [],
   "source": [
    "# deliveries_df.info(verbose=False)\n",
    "# deliveries_df.info()\n",
    "# deliveries_df.info(memory_usage ='deep')\n",
    "# matches_df.info(memory_usage ='deep')\n",
    "# # Category type - Advance concept."
   ]
  },
  {
   "cell_type": "markdown",
   "metadata": {},
   "source": [
    "### -------------------------------------------------------- ###"
   ]
  },
  {
   "cell_type": "markdown",
   "metadata": {},
   "source": [
    "### Unique teams"
   ]
  },
  {
   "cell_type": "code",
   "execution_count": 25,
   "metadata": {},
   "outputs": [],
   "source": [
    "# unique_teams = matches_df.team1.unique()\n",
    "# print(np.sort(unique_teams))\n",
    "# print(len(unique_teams))\n",
    "\n",
    "\n",
    "# current_season_teams = matches_df[matches_df.season == 2019].team1.unique()\n",
    "# print(np.sort(current_season_teams))\n",
    "# print(len(current_season_teams))\n"
   ]
  },
  {
   "cell_type": "markdown",
   "metadata": {},
   "source": [
    "### Function to repalce the team name"
   ]
  },
  {
   "cell_type": "code",
   "execution_count": 18,
   "metadata": {},
   "outputs": [],
   "source": [
    "\n",
    "def alias(team):\n",
    "    if team == 'Chennai Super Kings':\n",
    "        return 'CSK'\n",
    "    elif team == 'Deccan Chargers' or team == 'Sunrisers Hyderabad':\n",
    "        return 'SRH'\n",
    "    elif team == 'Delhi Capitals' or team == 'Delhi Daredevils':\n",
    "        return 'DD'\n",
    "    elif team == 'Gujarat Lions':\n",
    "        return 'GL'\n",
    "    elif team == 'Kings XI Punjab':\n",
    "        return 'KXIP'\n",
    "    elif team == 'Kochi Tuskers Kerala':\n",
    "        return 'KTK'\n",
    "    elif team == 'Kolkata Knight Riders':\n",
    "        return 'KKR'\n",
    "    elif team == 'Mumbai Indians':\n",
    "        return 'MI'\n",
    "    elif team == 'Pune Warriors' or team == 'Rising Pune Supergiants'or team == 'Rising Pune Supergiant':\n",
    "        return 'RPSG'\n",
    "    elif team == 'Rajasthan Royals':\n",
    "        return 'RR'\n",
    "    elif team == 'Royal Challengers Bangalore':\n",
    "        return 'RCB'\n",
    "#     else: \n",
    "#         return team\n"
   ]
  },
  {
   "cell_type": "markdown",
   "metadata": {},
   "source": [
    "### Applying fucntion to a dataframe"
   ]
  },
  {
   "cell_type": "code",
   "execution_count": 19,
   "metadata": {},
   "outputs": [],
   "source": [
    "\n",
    "matches_df['team2']=matches_df['team2'].apply(alias)\n",
    "matches_df['team1']=matches_df['team1'].apply(alias)\n",
    "matches_df['winner']=list(map(alias,matches_df['winner']))\n",
    "matches_df['toss_winner']=list(map(alias,matches_df['toss_winner']))\n",
    "\n",
    "deliveries_df['batting_team'] = deliveries_df['batting_team'].apply(alias)\n",
    "deliveries_df['bowling_team']=list(map(alias, deliveries_df['bowling_team']))"
   ]
  },
  {
   "cell_type": "markdown",
   "metadata": {},
   "source": [
    "### Unique venue"
   ]
  },
  {
   "cell_type": "code",
   "execution_count": 20,
   "metadata": {},
   "outputs": [],
   "source": [
    "# print(f\"Total venues - {matches_df['venue'].nunique()}\")\n",
    "# np.sort(matches_df['venue'].unique())"
   ]
  },
  {
   "cell_type": "markdown",
   "metadata": {},
   "source": [
    "### Replacing venue name"
   ]
  },
  {
   "cell_type": "code",
   "execution_count": 22,
   "metadata": {},
   "outputs": [],
   "source": [
    "# # Feroz Shah Kotla Ground == Feroz Shah Kotla\n",
    "\n",
    "# # IS Bindra Stadium = 'Punjab Cricket Association IS Bindra Stadium, Mohali', = 'Punjab Cricket Association Stadium, Mohali',\n",
    "\n",
    "# # 'M Chinnaswamy Stadium' ==    'M. Chinnaswamy Stadium',\n",
    "# # 'M. A. Chidambaram Stadium', == 'MA Chidambaram Stadium, Chepauk',\n",
    "\n",
    "# # 'Rajiv Gandhi International Stadium, Uppal', 'Rajiv Gandhi Intl. Cricket Stadium',\n",
    "\n",
    "\n",
    "# matches_df['venue']=matches_df['venue'].str.replace('Feroz Shah Kotla Ground','Feroz Shah Kotla')\n",
    "# matches_df['venue']=matches_df['venue'].str.replace('M. Chinnaswamy Stadium', 'M Chinnaswamy Stadium')\n",
    "# matches_df['venue']=matches_df['venue'].str.replace('M. A. Chidambaram Stadium', 'MA Chidambaram Stadium, Chepauk')\n",
    "# matches_df['venue']=matches_df['venue'].str.replace('Rajiv Gandhi Intl. Cricket Stadium', \n",
    "#                                                     'Rajiv Gandhi International Stadium, Uppal')\n",
    "# matches_df['venue']=matches_df['venue'].str.replace('Punjab Cricket Association IS Bindra Stadium, Mohali', \n",
    "#                                 'Punjab Cricket Association Stadium, Mohali')\n",
    "\n",
    "# matches_df['venue']=matches_df['venue'].str.replace('IS Bindra Stadium', \n",
    "#                                 'Punjab Cricket Association Stadium, Mohali')\n",
    "\n",
    "\n",
    "# print(f\"Total venues - {matches_df['venue'].nunique()}\")\n",
    "# np.sort(matches_df['venue'].unique())"
   ]
  },
  {
   "cell_type": "markdown",
   "metadata": {},
   "source": [
    "### Selection"
   ]
  },
  {
   "cell_type": "code",
   "execution_count": 55,
   "metadata": {},
   "outputs": [],
   "source": [
    "# matches_df.head()\n",
    "# deliveries_df.head()"
   ]
  },
  {
   "cell_type": "markdown",
   "metadata": {},
   "source": [
    "### Merging matches with ball deliveries"
   ]
  },
  {
   "cell_type": "code",
   "execution_count": 5,
   "metadata": {},
   "outputs": [],
   "source": [
    "ball_matches=pd.merge(matches_df,deliveries_df,right_on='match_id',left_on='id')"
   ]
  },
  {
   "cell_type": "markdown",
   "metadata": {},
   "source": [
    "### Selection"
   ]
  },
  {
   "cell_type": "code",
   "execution_count": 58,
   "metadata": {},
   "outputs": [],
   "source": [
    "# ball_matches.head()"
   ]
  },
  {
   "cell_type": "markdown",
   "metadata": {},
   "source": [
    "### Saving data to csv"
   ]
  },
  {
   "cell_type": "code",
   "execution_count": 6,
   "metadata": {},
   "outputs": [],
   "source": [
    "ball_matches.to_csv(\"data/ball_matches.csv\", index =False)"
   ]
  },
  {
   "cell_type": "code",
   "execution_count": 23,
   "metadata": {},
   "outputs": [],
   "source": [
    "matches_df.to_csv(\"data/matches_formatted.csv\", index =False)\n",
    "deliveries_df.to_csv(\"data/deliveries_formatted.csv\", index =False)"
   ]
  },
  {
   "cell_type": "code",
   "execution_count": null,
   "metadata": {},
   "outputs": [],
   "source": []
  }
 ],
 "metadata": {
  "kernelspec": {
   "display_name": "Python 3",
   "language": "python",
   "name": "python3"
  },
  "language_info": {
   "codemirror_mode": {
    "name": "ipython",
    "version": 3
   },
   "file_extension": ".py",
   "mimetype": "text/x-python",
   "name": "python",
   "nbconvert_exporter": "python",
   "pygments_lexer": "ipython3",
   "version": "3.7.1"
  }
 },
 "nbformat": 4,
 "nbformat_minor": 2
}
