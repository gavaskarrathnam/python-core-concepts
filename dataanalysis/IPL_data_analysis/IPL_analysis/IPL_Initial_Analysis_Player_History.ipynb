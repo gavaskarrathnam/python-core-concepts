{
 "cells": [
  {
   "cell_type": "code",
   "execution_count": 1,
   "metadata": {},
   "outputs": [],
   "source": [
    "import pandas as pd\n",
    "import numpy as np"
   ]
  },
  {
   "cell_type": "markdown",
   "metadata": {},
   "source": [
    "### Reading files"
   ]
  },
  {
   "cell_type": "code",
   "execution_count": 2,
   "metadata": {},
   "outputs": [
    {
     "name": "stderr",
     "output_type": "stream",
     "text": [
      "C:\\Users\\n.sundaramahalingam\\AppData\\Local\\Continuum\\anaconda3\\lib\\site-packages\\IPython\\core\\interactiveshell.py:3058: DtypeWarning: Columns (17) have mixed types. Specify dtype option on import or set low_memory=False.\n",
      "  interactivity=interactivity, compiler=compiler, result=result)\n"
     ]
    }
   ],
   "source": [
    "deliveries_df = pd.read_csv(\"data/deliveries_formatted.csv\")\n",
    "matches_df = pd.read_csv(\"data/matches_formatted.csv\")\n",
    "ball_matches_df = pd.read_csv(\"data/ball_matches.csv\")"
   ]
  },
  {
   "cell_type": "code",
   "execution_count": 3,
   "metadata": {},
   "outputs": [],
   "source": [
    "pd.set_option('display.max_columns', None)\n",
    "pd.set_option('display.max_colwidth', -1)\n",
    "pd.set_option('display.max_rows', None)"
   ]
  },
  {
   "cell_type": "markdown",
   "metadata": {},
   "source": [
    "# History Analysis"
   ]
  },
  {
   "cell_type": "markdown",
   "metadata": {},
   "source": [
    "### individual batsman history"
   ]
  },
  {
   "cell_type": "code",
   "execution_count": 5,
   "metadata": {},
   "outputs": [],
   "source": [
    "batsman = 'DA Warner'"
   ]
  },
  {
   "cell_type": "code",
   "execution_count": 8,
   "metadata": {},
   "outputs": [],
   "source": [
    "batsman_history = ball_matches_df.groupby(['season','match_id','batsman']).agg(batsman_score = ('batsman_runs','sum')).reset_index()"
   ]
  },
  {
   "cell_type": "code",
   "execution_count": 10,
   "metadata": {},
   "outputs": [],
   "source": [
    "# batsman_history[batsman_history.batsman == batsman]"
   ]
  },
  {
   "cell_type": "markdown",
   "metadata": {},
   "source": [
    "### individual bowler history"
   ]
  },
  {
   "cell_type": "code",
   "execution_count": 18,
   "metadata": {},
   "outputs": [],
   "source": [
    "bowler = 'SL Malinga'"
   ]
  },
  {
   "cell_type": "code",
   "execution_count": 15,
   "metadata": {},
   "outputs": [],
   "source": [
    "bowler_history = ball_matches_df[ball_matches_df.dismissal_kind.isin(['caught', 'bowled', 'lbw', 'caught and bowled', 'hit wicket'])].groupby(['season','match_id','bowler']).agg(bowler_wicket = ('dismissal_kind','count')).reset_index()"
   ]
  },
  {
   "cell_type": "code",
   "execution_count": 20,
   "metadata": {},
   "outputs": [],
   "source": [
    "# bowler_history[bowler_history.bowler == bowler]"
   ]
  },
  {
   "cell_type": "code",
   "execution_count": null,
   "metadata": {},
   "outputs": [],
   "source": []
  },
  {
   "cell_type": "markdown",
   "metadata": {},
   "source": [
    "### Team head to head"
   ]
  },
  {
   "cell_type": "code",
   "execution_count": 61,
   "metadata": {},
   "outputs": [],
   "source": [
    "teams = ['CSK', 'KXIP']"
   ]
  },
  {
   "cell_type": "code",
   "execution_count": 62,
   "metadata": {},
   "outputs": [],
   "source": [
    "team_head_to_head = ball_matches_df[(((ball_matches_df.team1==teams[0]) & (ball_matches_df.team2==teams[1])) | ((ball_matches_df.team1==teams[1]) & (ball_matches_df.team2==teams[0]))) ]"
   ]
  },
  {
   "cell_type": "code",
   "execution_count": 63,
   "metadata": {},
   "outputs": [],
   "source": [
    "columns = ['id', 'season', 'date', 'toss_winner',\n",
    "       'toss_decision', 'result', 'winner', 'win_by_runs',\n",
    "       'win_by_wickets', 'player_of_match', 'venue','inning', 'batting_team', 'bowling_team', 'over',\n",
    "       'ball', 'batsman', 'bowler', 'is_super_over',\n",
    "       'wide_runs', 'bye_runs', 'legbye_runs', 'noball_runs', 'penalty_runs',\n",
    "       'batsman_runs', 'extra_runs', 'total_runs', 'player_dismissed',\n",
    "       'dismissal_kind', 'fielder']"
   ]
  },
  {
   "cell_type": "code",
   "execution_count": 64,
   "metadata": {},
   "outputs": [],
   "source": [
    "team_head_to_head_rel = team_head_to_head[columns] "
   ]
  },
  {
   "cell_type": "code",
   "execution_count": 65,
   "metadata": {},
   "outputs": [],
   "source": [
    "team_head_to_head_winning = team_head_to_head_rel[team_head_to_head_rel.result == 'normal'].groupby(['id','winner']).agg(no_of_winning = ('winner','nunique')).reset_index()"
   ]
  },
  {
   "cell_type": "code",
   "execution_count": 71,
   "metadata": {},
   "outputs": [],
   "source": [
    "# team_head_to_head_winning.groupby('winner').agg({'no_of_winning':'count'})"
   ]
  },
  {
   "cell_type": "code",
   "execution_count": 69,
   "metadata": {},
   "outputs": [],
   "source": [
    "team_head_to_head_summary = team_head_to_head_rel.groupby(['id','result']).agg(summary = ('result','nunique')).reset_index()"
   ]
  },
  {
   "cell_type": "code",
   "execution_count": 72,
   "metadata": {},
   "outputs": [],
   "source": [
    "# team_head_to_head_summary.groupby('result').agg({'summary':'count'})"
   ]
  },
  {
   "cell_type": "code",
   "execution_count": null,
   "metadata": {},
   "outputs": [],
   "source": []
  },
  {
   "cell_type": "code",
   "execution_count": null,
   "metadata": {},
   "outputs": [],
   "source": []
  },
  {
   "cell_type": "code",
   "execution_count": null,
   "metadata": {},
   "outputs": [],
   "source": []
  },
  {
   "cell_type": "code",
   "execution_count": null,
   "metadata": {},
   "outputs": [],
   "source": []
  },
  {
   "cell_type": "markdown",
   "metadata": {},
   "source": [
    "### overall IPL matches"
   ]
  },
  {
   "cell_type": "code",
   "execution_count": 97,
   "metadata": {},
   "outputs": [],
   "source": [
    "ipl_matches = ball_matches_df[ball_matches_df.inning.isin([1,2])].groupby(['id', 'season','inning','batting_team']).agg(score=('total_runs','sum'), wickets =('player_dismissed','count')).reset_index()"
   ]
  },
  {
   "cell_type": "code",
   "execution_count": 106,
   "metadata": {},
   "outputs": [],
   "source": [
    "ipl_matches_pivoted = ipl_matches.pivot_table(index=['id','season'],columns=['inning'], values=['batting_team','score','wickets'], aggfunc='first').reset_index()"
   ]
  },
  {
   "cell_type": "code",
   "execution_count": 126,
   "metadata": {},
   "outputs": [],
   "source": [
    "# ipl_matches_pivoted.head()"
   ]
  },
  {
   "cell_type": "code",
   "execution_count": 155,
   "metadata": {},
   "outputs": [],
   "source": [
    "ipl_history = pd.DataFrame(ipl_matches_pivoted.to_records())"
   ]
  },
  {
   "cell_type": "code",
   "execution_count": 156,
   "metadata": {},
   "outputs": [],
   "source": [
    "# ipl_history[ipl_history.match_id==301]"
   ]
  },
  {
   "cell_type": "code",
   "execution_count": 157,
   "metadata": {},
   "outputs": [],
   "source": [
    "fillna_values = {\"('batting_team', 1)\": 'Not Available', \"('batting_team', 2)\": 'Not Available', \"('score', 1)\": 0, \n",
    "                 \"('score', 2)\": 0, \"('wickets', 1)\":0 , \"('wickets', 2)\":0}"
   ]
  },
  {
   "cell_type": "code",
   "execution_count": 158,
   "metadata": {},
   "outputs": [],
   "source": [
    "ipl_history.fillna(value=fillna_values, inplace=True)"
   ]
  },
  {
   "cell_type": "code",
   "execution_count": 159,
   "metadata": {},
   "outputs": [],
   "source": [
    "# ipl_history[ipl_history.match_id==301]"
   ]
  },
  {
   "cell_type": "code",
   "execution_count": 160,
   "metadata": {},
   "outputs": [],
   "source": [
    "ipl_history['match_id'] = ipl_history[\"('id', '')\"]\n",
    "ipl_history['first_innings_team'] = ipl_history[\"('batting_team', 1)\"]\n",
    "ipl_history['first_bat_score']=ipl_history[\"('score', 1)\"].astype(int).astype(str)+\"\\ \"+ ipl_history[\"('wickets', 1)\"].astype(int).astype(str)\n",
    "\n",
    "ipl_history['second_innings_team'] = ipl_history[\"('batting_team', 2)\"]\n",
    "ipl_history['second_bat_score']=ipl_history[\"('score', 2)\"].astype(int).astype(str)+\"\\ \"+ ipl_history[\"('wickets', 2)\"].astype(int).astype(str)"
   ]
  },
  {
   "cell_type": "code",
   "execution_count": 161,
   "metadata": {},
   "outputs": [],
   "source": [
    "ipl_history.drop(columns=['index', \"('id', '')\", \"('season', '')\", \"('batting_team', 1)\",\n",
    "       \"('batting_team', 2)\", \"('score', 1)\", \"('score', 2)\", \"('wickets', 1)\",\n",
    "       \"('wickets', 2)\"], inplace=True)"
   ]
  },
  {
   "cell_type": "code",
   "execution_count": 166,
   "metadata": {},
   "outputs": [],
   "source": [
    "# ipl_history"
   ]
  },
  {
   "cell_type": "code",
   "execution_count": 167,
   "metadata": {},
   "outputs": [],
   "source": [
    "ipl_history_all = pd.merge(ipl_history, matches_df, left_on ='match_id', right_on='id')"
   ]
  },
  {
   "cell_type": "code",
   "execution_count": 169,
   "metadata": {},
   "outputs": [],
   "source": [
    "# ipl_history_all"
   ]
  },
  {
   "cell_type": "code",
   "execution_count": 171,
   "metadata": {},
   "outputs": [],
   "source": [
    "def win_type(item):\n",
    "    if item==0:\n",
    "        return 'Chasing'\n",
    "    else:\n",
    "        return 'Batting'"
   ]
  },
  {
   "cell_type": "code",
   "execution_count": 172,
   "metadata": {},
   "outputs": [],
   "source": [
    "ipl_history_all['win_by_chase/bat']=list(map(win_type,ipl_history_all['win_by_runs']))"
   ]
  },
  {
   "cell_type": "code",
   "execution_count": 180,
   "metadata": {},
   "outputs": [],
   "source": [
    "ipl_history_win = ipl_history_all.groupby(['venue','win_by_chase/bat']).agg(win_count = ('win_by_chase/bat','count')).reset_index()"
   ]
  },
  {
   "cell_type": "code",
   "execution_count": 184,
   "metadata": {},
   "outputs": [],
   "source": [
    "# ipl_history_win.head()"
   ]
  },
  {
   "cell_type": "code",
   "execution_count": 183,
   "metadata": {},
   "outputs": [],
   "source": [
    "# ipl_history_win.pivot_table(index='venue',columns='win_by_chase/bat',values='win_count').reset_index()"
   ]
  },
  {
   "cell_type": "code",
   "execution_count": null,
   "metadata": {},
   "outputs": [],
   "source": []
  }
 ],
 "metadata": {
  "kernelspec": {
   "display_name": "Python 3",
   "language": "python",
   "name": "python3"
  },
  "language_info": {
   "codemirror_mode": {
    "name": "ipython",
    "version": 3
   },
   "file_extension": ".py",
   "mimetype": "text/x-python",
   "name": "python",
   "nbconvert_exporter": "python",
   "pygments_lexer": "ipython3",
   "version": "3.7.1"
  }
 },
 "nbformat": 4,
 "nbformat_minor": 2
}
